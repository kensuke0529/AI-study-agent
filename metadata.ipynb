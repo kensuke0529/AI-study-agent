{
 "cells": [
  {
   "cell_type": "code",
   "execution_count": 1,
   "id": "74ed9769",
   "metadata": {},
   "outputs": [],
   "source": [
    "import pandas as pd"
   ]
  },
  {
   "cell_type": "code",
   "execution_count": 22,
   "id": "310cbdf2",
   "metadata": {},
   "outputs": [],
   "source": [
    "import os\n",
    "import json\n",
    "file_path = 'documents/IS/metadata.json'\n",
    "\n",
    "with open(file_path, 'r') as f:\n",
    "\tdata = json.load(f)\n",
    "\n",
    "# If data is a dict, convert to DataFrame by wrapping in a list (each key becomes a column)\n",
    "if isinstance(data, dict):\n",
    "\tdf = pd.DataFrame([data])\n",
    "else:\n",
    "\tdf = pd.DataFrame(data)\n"
   ]
  },
  {
   "cell_type": "code",
   "execution_count": 23,
   "id": "32077e87",
   "metadata": {},
   "outputs": [
    {
     "data": {
      "text/html": [
       "<div>\n",
       "<style scoped>\n",
       "    .dataframe tbody tr th:only-of-type {\n",
       "        vertical-align: middle;\n",
       "    }\n",
       "\n",
       "    .dataframe tbody tr th {\n",
       "        vertical-align: top;\n",
       "    }\n",
       "\n",
       "    .dataframe thead th {\n",
       "        text-align: right;\n",
       "    }\n",
       "</style>\n",
       "<table border=\"1\" class=\"dataframe\">\n",
       "  <thead>\n",
       "    <tr style=\"text-align: right;\">\n",
       "      <th></th>\n",
       "      <th>chunks</th>\n",
       "      <th>chunk_doc_names</th>\n",
       "      <th>file_hashes</th>\n",
       "    </tr>\n",
       "  </thead>\n",
       "  <tbody>\n",
       "    <tr>\n",
       "      <th>0</th>\n",
       "      <td>[Structured query language (SQL) is a programm...</td>\n",
       "      <td>[sql.txt]</td>\n",
       "      <td>{'sql.txt': 'a44b6bf9274c9ea567c894de52bb04d32...</td>\n",
       "    </tr>\n",
       "  </tbody>\n",
       "</table>\n",
       "</div>"
      ],
      "text/plain": [
       "                                              chunks chunk_doc_names  \\\n",
       "0  [Structured query language (SQL) is a programm...       [sql.txt]   \n",
       "\n",
       "                                         file_hashes  \n",
       "0  {'sql.txt': 'a44b6bf9274c9ea567c894de52bb04d32...  "
      ]
     },
     "execution_count": 23,
     "metadata": {},
     "output_type": "execute_result"
    }
   ],
   "source": [
    "df"
   ]
  }
 ],
 "metadata": {
  "kernelspec": {
   "display_name": "base",
   "language": "python",
   "name": "python3"
  },
  "language_info": {
   "codemirror_mode": {
    "name": "ipython",
    "version": 3
   },
   "file_extension": ".py",
   "mimetype": "text/x-python",
   "name": "python",
   "nbconvert_exporter": "python",
   "pygments_lexer": "ipython3",
   "version": "3.13.5"
  }
 },
 "nbformat": 4,
 "nbformat_minor": 5
}
